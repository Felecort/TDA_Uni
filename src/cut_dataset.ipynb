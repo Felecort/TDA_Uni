{
 "cells": [
  {
   "cell_type": "code",
   "execution_count": 44,
   "metadata": {},
   "outputs": [],
   "source": [
    "import pandas as pd"
   ]
  },
  {
   "cell_type": "code",
   "execution_count": 45,
   "metadata": {},
   "outputs": [],
   "source": [
    "data = pd.read_parquet(\"../data/Zzzs_train.parquet\")"
   ]
  },
  {
   "cell_type": "code",
   "execution_count": 46,
   "metadata": {},
   "outputs": [
    {
     "data": {
      "text/html": [
       "<div>\n",
       "<style scoped>\n",
       "    .dataframe tbody tr th:only-of-type {\n",
       "        vertical-align: middle;\n",
       "    }\n",
       "\n",
       "    .dataframe tbody tr th {\n",
       "        vertical-align: top;\n",
       "    }\n",
       "\n",
       "    .dataframe thead th {\n",
       "        text-align: right;\n",
       "    }\n",
       "</style>\n",
       "<table border=\"1\" class=\"dataframe\">\n",
       "  <thead>\n",
       "    <tr style=\"text-align: right;\">\n",
       "      <th></th>\n",
       "      <th>series_id</th>\n",
       "      <th>step</th>\n",
       "      <th>timestamp</th>\n",
       "      <th>anglez</th>\n",
       "      <th>enmo</th>\n",
       "      <th>awake</th>\n",
       "    </tr>\n",
       "  </thead>\n",
       "  <tbody>\n",
       "    <tr>\n",
       "      <th>0</th>\n",
       "      <td>08db4255286f</td>\n",
       "      <td>0</td>\n",
       "      <td>2018-11-05T10:00:00-0400</td>\n",
       "      <td>-30.845301</td>\n",
       "      <td>0.0447</td>\n",
       "      <td>1</td>\n",
       "    </tr>\n",
       "    <tr>\n",
       "      <th>1</th>\n",
       "      <td>08db4255286f</td>\n",
       "      <td>1</td>\n",
       "      <td>2018-11-05T10:00:05-0400</td>\n",
       "      <td>-34.181801</td>\n",
       "      <td>0.0443</td>\n",
       "      <td>1</td>\n",
       "    </tr>\n",
       "    <tr>\n",
       "      <th>2</th>\n",
       "      <td>08db4255286f</td>\n",
       "      <td>2</td>\n",
       "      <td>2018-11-05T10:00:10-0400</td>\n",
       "      <td>-33.877102</td>\n",
       "      <td>0.0483</td>\n",
       "      <td>1</td>\n",
       "    </tr>\n",
       "    <tr>\n",
       "      <th>3</th>\n",
       "      <td>08db4255286f</td>\n",
       "      <td>3</td>\n",
       "      <td>2018-11-05T10:00:15-0400</td>\n",
       "      <td>-34.282101</td>\n",
       "      <td>0.0680</td>\n",
       "      <td>1</td>\n",
       "    </tr>\n",
       "    <tr>\n",
       "      <th>4</th>\n",
       "      <td>08db4255286f</td>\n",
       "      <td>4</td>\n",
       "      <td>2018-11-05T10:00:20-0400</td>\n",
       "      <td>-34.385799</td>\n",
       "      <td>0.0768</td>\n",
       "      <td>1</td>\n",
       "    </tr>\n",
       "  </tbody>\n",
       "</table>\n",
       "</div>"
      ],
      "text/plain": [
       "      series_id  step                 timestamp     anglez    enmo  awake\n",
       "0  08db4255286f     0  2018-11-05T10:00:00-0400 -30.845301  0.0447      1\n",
       "1  08db4255286f     1  2018-11-05T10:00:05-0400 -34.181801  0.0443      1\n",
       "2  08db4255286f     2  2018-11-05T10:00:10-0400 -33.877102  0.0483      1\n",
       "3  08db4255286f     3  2018-11-05T10:00:15-0400 -34.282101  0.0680      1\n",
       "4  08db4255286f     4  2018-11-05T10:00:20-0400 -34.385799  0.0768      1"
      ]
     },
     "execution_count": 46,
     "metadata": {},
     "output_type": "execute_result"
    }
   ],
   "source": [
    "data.head()"
   ]
  },
  {
   "cell_type": "code",
   "execution_count": 47,
   "metadata": {},
   "outputs": [
    {
     "data": {
      "text/plain": [
       "(13165560, 6)"
      ]
     },
     "execution_count": 47,
     "metadata": {},
     "output_type": "execute_result"
    }
   ],
   "source": [
    "data.shape"
   ]
  },
  {
   "cell_type": "code",
   "execution_count": 48,
   "metadata": {},
   "outputs": [],
   "source": [
    "data[\"step\"] = data[\"step\"].astype(int)\n",
    "data[\"anglez\"] = data[\"anglez\"].astype(float)\n",
    "data[\"enmo\"] = data[\"enmo\"].astype(float)\n",
    "data[\"awake\"] = data[\"awake\"].astype(bool)\n"
   ]
  },
  {
   "cell_type": "code",
   "execution_count": 49,
   "metadata": {},
   "outputs": [
    {
     "data": {
      "text/plain": [
       "array(['08db4255286f', '0a96f4993bd7', '0cfc06c129cc', '1087d7b0ff2e',\n",
       "       '10f8bc1f7b07', '18b61dd5aae8', '29c75c018220', '3452b878e596',\n",
       "       '349c5562ee2c', '3664fe9233f9', '483d6545417f', '55a47ff9dc8a',\n",
       "       '5acc9d63b5fd', '5f94bb3e1bed', '655f19eabf1e', '67f5fc60e494',\n",
       "       '72bbd1ac3edf', '76237b9406d5', '7822ee8fe3ec', '89bd631d1769',\n",
       "       '8e32047cbc1f', '939932f1822d', '9ee455e4770d', 'a9a2f7fac455',\n",
       "       'a9e5f5314bcb', 'af91d9a50547', 'b364205aba43', 'c535634d7dcd',\n",
       "       'c6788e579967', 'c68260cc9e8f', 'ca730dbf521d', 'd150801f3145',\n",
       "       'd25e479ecbb7', 'd515236bdeec', 'd5e47b94477e'], dtype=object)"
      ]
     },
     "execution_count": 49,
     "metadata": {},
     "output_type": "execute_result"
    }
   ],
   "source": [
    "data[\"series_id\"].unique()"
   ]
  },
  {
   "cell_type": "code",
   "execution_count": 50,
   "metadata": {},
   "outputs": [],
   "source": [
    "less_series = data.groupby(\"series_id\")[\"step\"].count().sort_values()[:3].index.values"
   ]
  },
  {
   "cell_type": "code",
   "execution_count": 51,
   "metadata": {},
   "outputs": [],
   "source": [
    "truncated_data = data[data[\"series_id\"].isin(less_series)].reset_index()"
   ]
  },
  {
   "cell_type": "code",
   "execution_count": 52,
   "metadata": {},
   "outputs": [
    {
     "name": "stderr",
     "output_type": "stream",
     "text": [
      "C:\\Users\\dotpo\\AppData\\Local\\Temp\\ipykernel_2088\\3648499738.py:1: FutureWarning: In a future version of pandas, parsing datetimes with mixed time zones will raise an error unless `utc=True`. Please specify `utc=True` to opt in to the new behaviour and silence this warning. To create a `Series` with mixed offsets and `object` dtype, please use `apply` and `datetime.datetime.strptime`\n",
      "  truncated_data['timestamp'] = pd.to_datetime(truncated_data['timestamp'])\n"
     ]
    }
   ],
   "source": [
    "truncated_data['timestamp'] = pd.to_datetime(truncated_data['timestamp'])"
   ]
  },
  {
   "cell_type": "code",
   "execution_count": 54,
   "metadata": {},
   "outputs": [
    {
     "data": {
      "text/html": [
       "<div>\n",
       "<style scoped>\n",
       "    .dataframe tbody tr th:only-of-type {\n",
       "        vertical-align: middle;\n",
       "    }\n",
       "\n",
       "    .dataframe tbody tr th {\n",
       "        vertical-align: top;\n",
       "    }\n",
       "\n",
       "    .dataframe thead th {\n",
       "        text-align: right;\n",
       "    }\n",
       "</style>\n",
       "<table border=\"1\" class=\"dataframe\">\n",
       "  <thead>\n",
       "    <tr style=\"text-align: right;\">\n",
       "      <th></th>\n",
       "      <th>index</th>\n",
       "      <th>series_id</th>\n",
       "      <th>step</th>\n",
       "      <th>timestamp</th>\n",
       "      <th>anglez</th>\n",
       "      <th>enmo</th>\n",
       "      <th>awake</th>\n",
       "    </tr>\n",
       "  </thead>\n",
       "  <tbody>\n",
       "    <tr>\n",
       "      <th>0</th>\n",
       "      <td>3380400</td>\n",
       "      <td>349c5562ee2c</td>\n",
       "      <td>0</td>\n",
       "      <td>2019-02-08 12:00:00-05:00</td>\n",
       "      <td>-88.683701</td>\n",
       "      <td>0.0</td>\n",
       "      <td>True</td>\n",
       "    </tr>\n",
       "    <tr>\n",
       "      <th>1</th>\n",
       "      <td>3380401</td>\n",
       "      <td>349c5562ee2c</td>\n",
       "      <td>1</td>\n",
       "      <td>2019-02-08 12:00:05-05:00</td>\n",
       "      <td>-88.683701</td>\n",
       "      <td>0.0</td>\n",
       "      <td>True</td>\n",
       "    </tr>\n",
       "    <tr>\n",
       "      <th>2</th>\n",
       "      <td>3380402</td>\n",
       "      <td>349c5562ee2c</td>\n",
       "      <td>2</td>\n",
       "      <td>2019-02-08 12:00:10-05:00</td>\n",
       "      <td>-88.683701</td>\n",
       "      <td>0.0</td>\n",
       "      <td>True</td>\n",
       "    </tr>\n",
       "    <tr>\n",
       "      <th>3</th>\n",
       "      <td>3380403</td>\n",
       "      <td>349c5562ee2c</td>\n",
       "      <td>3</td>\n",
       "      <td>2019-02-08 12:00:15-05:00</td>\n",
       "      <td>-88.683701</td>\n",
       "      <td>0.0</td>\n",
       "      <td>True</td>\n",
       "    </tr>\n",
       "    <tr>\n",
       "      <th>4</th>\n",
       "      <td>3380404</td>\n",
       "      <td>349c5562ee2c</td>\n",
       "      <td>4</td>\n",
       "      <td>2019-02-08 12:00:20-05:00</td>\n",
       "      <td>-88.683701</td>\n",
       "      <td>0.0</td>\n",
       "      <td>True</td>\n",
       "    </tr>\n",
       "  </tbody>\n",
       "</table>\n",
       "</div>"
      ],
      "text/plain": [
       "     index     series_id  step                  timestamp     anglez  enmo  \\\n",
       "0  3380400  349c5562ee2c     0  2019-02-08 12:00:00-05:00 -88.683701   0.0   \n",
       "1  3380401  349c5562ee2c     1  2019-02-08 12:00:05-05:00 -88.683701   0.0   \n",
       "2  3380402  349c5562ee2c     2  2019-02-08 12:00:10-05:00 -88.683701   0.0   \n",
       "3  3380403  349c5562ee2c     3  2019-02-08 12:00:15-05:00 -88.683701   0.0   \n",
       "4  3380404  349c5562ee2c     4  2019-02-08 12:00:20-05:00 -88.683701   0.0   \n",
       "\n",
       "   awake  \n",
       "0   True  \n",
       "1   True  \n",
       "2   True  \n",
       "3   True  \n",
       "4   True  "
      ]
     },
     "execution_count": 54,
     "metadata": {},
     "output_type": "execute_result"
    }
   ],
   "source": [
    "truncated_data.head()"
   ]
  },
  {
   "cell_type": "code",
   "execution_count": 55,
   "metadata": {},
   "outputs": [
    {
     "ename": "NameError",
     "evalue": "name 'anglez' is not defined",
     "output_type": "error",
     "traceback": [
      "\u001b[1;31m---------------------------------------------------------------------------\u001b[0m",
      "\u001b[1;31mNameError\u001b[0m                                 Traceback (most recent call last)",
      "Cell \u001b[1;32mIn[55], line 1\u001b[0m\n\u001b[1;32m----> 1\u001b[0m \u001b[43manglez\u001b[49m\n",
      "\u001b[1;31mNameError\u001b[0m: name 'anglez' is not defined"
     ]
    }
   ],
   "source": [
    "truncated_data"
   ]
  },
  {
   "cell_type": "code",
   "execution_count": null,
   "metadata": {},
   "outputs": [
    {
     "data": {
      "text/plain": [
       "array(['349c5562ee2c', 'a9e5f5314bcb', 'c535634d7dcd'], dtype=object)"
      ]
     },
     "execution_count": 37,
     "metadata": {},
     "output_type": "execute_result"
    }
   ],
   "source": [
    "truncated_data[\"series_id\"].unique()"
   ]
  },
  {
   "cell_type": "code",
   "execution_count": null,
   "metadata": {},
   "outputs": [
    {
     "data": {
      "text/plain": [
       "(328320, 7)"
      ]
     },
     "execution_count": 38,
     "metadata": {},
     "output_type": "execute_result"
    }
   ],
   "source": [
    "truncated_data.shape"
   ]
  },
  {
   "cell_type": "code",
   "execution_count": null,
   "metadata": {},
   "outputs": [
    {
     "data": {
      "text/plain": [
       "series_id\n",
       "349c5562ee2c     37080\n",
       "a9e5f5314bcb    155160\n",
       "c535634d7dcd    136080\n",
       "Name: step, dtype: int64"
      ]
     },
     "execution_count": 42,
     "metadata": {},
     "output_type": "execute_result"
    }
   ],
   "source": [
    "truncated_data.groupby(\"series_id\")[\"step\"].count()"
   ]
  },
  {
   "cell_type": "code",
   "execution_count": 74,
   "metadata": {},
   "outputs": [
    {
     "data": {
      "text/plain": [
       "0.00021165996848026446"
      ]
     },
     "execution_count": 74,
     "metadata": {},
     "output_type": "execute_result"
    }
   ],
   "source": [
    "truncated_data[\"anglez\"].diff().bfill().mean()"
   ]
  },
  {
   "cell_type": "code",
   "execution_count": 66,
   "metadata": {},
   "outputs": [
    {
     "data": {
      "text/plain": [
       "<Axes: >"
      ]
     },
     "execution_count": 66,
     "metadata": {},
     "output_type": "execute_result"
    },
    {
     "data": {
      "image/png": "[encoded data removed]",
      "text/plain": [
       "<Figure size 640x480 with 1 Axes>"
      ]
     },
     "metadata": {},
     "output_type": "display_data"
    }
   ],
   "source": [
    "truncated_data[\"enmo\"].diff().bfill().hist()"
   ]
  },
  {
   "cell_type": "code",
   "execution_count": 89,
   "metadata": {},
   "outputs": [],
   "source": [
    "import matplotlib.pyplot as plt \n",
    "import numpy as np"
   ]
  },
  {
   "cell_type": "code",
   "execution_count": 98,
   "metadata": {},
   "outputs": [],
   "source": [
    "periods = (np.linspace(1, 10, 40) ** 2).astype(int)"
   ]
  },
  {
   "cell_type": "code",
   "execution_count": 101,
   "metadata": {},
   "outputs": [
    {
     "data": {
      "text/plain": [
       "array([  1,   1,   2,   2,   3,   4,   5,   6,   8,   9,  10,  12,  14,\n",
       "        16,  17,  19,  22,  24,  26,  28,  31,  34,  36,  39,  42,  45,\n",
       "        49,  52,  55,  59,  62,  66,  70,  74,  78,  82,  86,  90,  95,\n",
       "       100])"
      ]
     },
     "execution_count": 101,
     "metadata": {},
     "output_type": "execute_result"
    }
   ],
   "source": [
    "periods"
   ]
  },
  {
   "cell_type": "code",
   "execution_count": 102,
   "metadata": {},
   "outputs": [
    {
     "name": "stdout",
     "output_type": "stream",
     "text": [
      "period = 1\t 144.45 \t 0.01\n",
      "period = 1\t 144.45 \t 0.01\n",
      "period = 2\t 276.13 \t 0.01\n",
      "period = 2\t 276.13 \t 0.01\n",
      "period = 3\t 349.72 \t 0.01\n",
      "period = 4\t 403.60 \t 0.01\n",
      "period = 5\t 448.41 \t 0.01\n",
      "period = 6\t 486.74 \t 0.01\n",
      "period = 8\t 551.86 \t 0.01\n",
      "period = 9\t 579.66 \t 0.01\n",
      "period = 10\t 605.80 \t 0.01\n",
      "period = 12\t 653.95 \t 0.01\n",
      "period = 14\t 698.36 \t 0.01\n",
      "period = 16\t 739.23 \t 0.01\n",
      "period = 17\t 758.70 \t 0.01\n",
      "period = 19\t 795.32 \t 0.01\n",
      "period = 22\t 845.30 \t 0.01\n",
      "period = 24\t 877.97 \t 0.01\n",
      "period = 26\t 910.28 \t 0.01\n",
      "period = 28\t 940.53 \t 0.01\n",
      "period = 31\t 983.60 \t 0.01\n",
      "period = 34\t 1021.30 \t 0.01\n",
      "period = 36\t 1047.33 \t 0.01\n",
      "period = 39\t 1085.04 \t 0.01\n",
      "period = 42\t 1118.55 \t 0.01\n",
      "period = 45\t 1149.29 \t 0.01\n",
      "period = 49\t 1195.72 \t 0.01\n",
      "period = 52\t 1227.03 \t 0.01\n",
      "period = 55\t 1258.69 \t 0.01\n",
      "period = 59\t 1296.93 \t 0.01\n",
      "period = 62\t 1324.01 \t 0.01\n",
      "period = 66\t 1360.76 \t 0.01\n",
      "period = 70\t 1392.88 \t 0.01\n",
      "period = 74\t 1419.83 \t 0.01\n",
      "period = 78\t 1447.09 \t 0.01\n",
      "period = 82\t 1475.94 \t 0.01\n",
      "period = 86\t 1501.19 \t 0.01\n",
      "period = 90\t 1522.77 \t 0.01\n",
      "period = 95\t 1550.55 \t 0.01\n",
      "period = 100\t 1581.62 \t 0.01\n"
     ]
    }
   ],
   "source": [
    "np.exp(10)\n",
    "for period in periods:\n",
    "    print(f\"{period = }\\t\",\n",
    "    f\"{truncated_data['anglez'].diff(periods=period).bfill().var():.2f} \\t\",\n",
    "    f\"{truncated_data['enmo'].diff(periods=period).bfill().var():.2f}\",\n",
    "    )"
   ]
  },
  {
   "cell_type": "code",
   "execution_count": null,
   "metadata": {},
   "outputs": [],
   "source": []
  }
 ],
 "metadata": {
  "kernelspec": {
   "display_name": ".venv",
   "language": "python",
   "name": "python3"
  },
  "language_info": {
   "codemirror_mode": {
    "name": "ipython",
    "version": 3
   },
   "file_extension": ".py",
   "mimetype": "text/x-python",
   "name": "python",
   "nbconvert_exporter": "python",
   "pygments_lexer": "ipython3",
   "version": "3.10.11"
  }
 },
 "nbformat": 4,
 "nbformat_minor": 2
}
