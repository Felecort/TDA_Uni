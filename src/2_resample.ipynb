{
 "cells": [
  {
   "cell_type": "code",
   "execution_count": 84,
   "metadata": {},
   "outputs": [],
   "source": [
    "import pandas as pd"
   ]
  },
  {
   "cell_type": "code",
   "execution_count": 85,
   "metadata": {},
   "outputs": [],
   "source": [
    "truncated_data = pd.read_csv(\"../data/truncated_dataset.csv\").drop([\"Unnamed: 0\", \"index\"], axis=1)\n",
    "\n",
    "truncated_data['step'] = truncated_data[\"step\"].astype(int)\n",
    "truncated_data['anglez'] = truncated_data[\"anglez\"].astype(float)\n",
    "truncated_data['enmo'] = truncated_data[\"enmo\"].astype(float)\n",
    "truncated_data['awake'] = truncated_data[\"awake\"].astype(bool)\n",
    "\n",
    "truncated_data['timestamp'] = pd.to_datetime(truncated_data['timestamp'], utc=True)\n",
    "\n",
    "truncated_data[\"timestamp\"].nunique() == truncated_data.shape[0]\n",
    "truncated_data.set_index(\"timestamp\", inplace=True)"
   ]
  },
  {
   "cell_type": "code",
   "execution_count": 86,
   "metadata": {},
   "outputs": [
    {
     "data": {
      "text/html": [
       "<div>\n",
       "<style scoped>\n",
       "    .dataframe tbody tr th:only-of-type {\n",
       "        vertical-align: middle;\n",
       "    }\n",
       "\n",
       "    .dataframe tbody tr th {\n",
       "        vertical-align: top;\n",
       "    }\n",
       "\n",
       "    .dataframe thead th {\n",
       "        text-align: right;\n",
       "    }\n",
       "</style>\n",
       "<table border=\"1\" class=\"dataframe\">\n",
       "  <thead>\n",
       "    <tr style=\"text-align: right;\">\n",
       "      <th></th>\n",
       "      <th>series_id</th>\n",
       "      <th>step</th>\n",
       "      <th>anglez</th>\n",
       "      <th>enmo</th>\n",
       "      <th>awake</th>\n",
       "    </tr>\n",
       "    <tr>\n",
       "      <th>timestamp</th>\n",
       "      <th></th>\n",
       "      <th></th>\n",
       "      <th></th>\n",
       "      <th></th>\n",
       "      <th></th>\n",
       "    </tr>\n",
       "  </thead>\n",
       "  <tbody>\n",
       "    <tr>\n",
       "      <th>2019-02-08 17:00:00+00:00</th>\n",
       "      <td>349c5562ee2c</td>\n",
       "      <td>0</td>\n",
       "      <td>-88.683701</td>\n",
       "      <td>0.0</td>\n",
       "      <td>True</td>\n",
       "    </tr>\n",
       "    <tr>\n",
       "      <th>2019-02-08 17:00:05+00:00</th>\n",
       "      <td>349c5562ee2c</td>\n",
       "      <td>1</td>\n",
       "      <td>-88.683701</td>\n",
       "      <td>0.0</td>\n",
       "      <td>True</td>\n",
       "    </tr>\n",
       "    <tr>\n",
       "      <th>2019-02-08 17:00:10+00:00</th>\n",
       "      <td>349c5562ee2c</td>\n",
       "      <td>2</td>\n",
       "      <td>-88.683701</td>\n",
       "      <td>0.0</td>\n",
       "      <td>True</td>\n",
       "    </tr>\n",
       "    <tr>\n",
       "      <th>2019-02-08 17:00:15+00:00</th>\n",
       "      <td>349c5562ee2c</td>\n",
       "      <td>3</td>\n",
       "      <td>-88.683701</td>\n",
       "      <td>0.0</td>\n",
       "      <td>True</td>\n",
       "    </tr>\n",
       "    <tr>\n",
       "      <th>2019-02-08 17:00:20+00:00</th>\n",
       "      <td>349c5562ee2c</td>\n",
       "      <td>4</td>\n",
       "      <td>-88.683701</td>\n",
       "      <td>0.0</td>\n",
       "      <td>True</td>\n",
       "    </tr>\n",
       "  </tbody>\n",
       "</table>\n",
       "</div>"
      ],
      "text/plain": [
       "                              series_id  step     anglez  enmo  awake\n",
       "timestamp                                                            \n",
       "2019-02-08 17:00:00+00:00  349c5562ee2c     0 -88.683701   0.0   True\n",
       "2019-02-08 17:00:05+00:00  349c5562ee2c     1 -88.683701   0.0   True\n",
       "2019-02-08 17:00:10+00:00  349c5562ee2c     2 -88.683701   0.0   True\n",
       "2019-02-08 17:00:15+00:00  349c5562ee2c     3 -88.683701   0.0   True\n",
       "2019-02-08 17:00:20+00:00  349c5562ee2c     4 -88.683701   0.0   True"
      ]
     },
     "execution_count": 86,
     "metadata": {},
     "output_type": "execute_result"
    }
   ],
   "source": [
    "truncated_data.head()"
   ]
  },
  {
   "cell_type": "code",
   "execution_count": 87,
   "metadata": {},
   "outputs": [
    {
     "data": {
      "text/plain": [
       "series_id\n",
       "349c5562ee2c     37080\n",
       "a9e5f5314bcb    155160\n",
       "c535634d7dcd    136080\n",
       "Name: step, dtype: int64"
      ]
     },
     "execution_count": 87,
     "metadata": {},
     "output_type": "execute_result"
    }
   ],
   "source": [
    "truncated_data.groupby(\"series_id\")[\"step\"].count()"
   ]
  },
  {
   "cell_type": "code",
   "execution_count": 88,
   "metadata": {},
   "outputs": [],
   "source": [
    "RESAMPLE_MINUTES = \"10min\""
   ]
  },
  {
   "cell_type": "code",
   "execution_count": 89,
   "metadata": {},
   "outputs": [],
   "source": [
    "columns_for_resample = truncated_data[[\"anglez\", \"enmo\", \"series_id\"]]\n",
    "series = truncated_data[\"series_id\"].unique()\n",
    "\n",
    "res_dataframes = []\n",
    "for s in series:\n",
    "    res_dataframes.append(\n",
    "        columns_for_resample[columns_for_resample[\"series_id\"] == s][[\"anglez\", \"enmo\"]].resample(RESAMPLE_MINUTES).mean()\n",
    "        )\n",
    "res = pd.concat(res_dataframes, axis=0)"
   ]
  },
  {
   "cell_type": "code",
   "execution_count": 90,
   "metadata": {},
   "outputs": [
    {
     "data": {
      "text/html": [
       "<div>\n",
       "<style scoped>\n",
       "    .dataframe tbody tr th:only-of-type {\n",
       "        vertical-align: middle;\n",
       "    }\n",
       "\n",
       "    .dataframe tbody tr th {\n",
       "        vertical-align: top;\n",
       "    }\n",
       "\n",
       "    .dataframe thead th {\n",
       "        text-align: right;\n",
       "    }\n",
       "</style>\n",
       "<table border=\"1\" class=\"dataframe\">\n",
       "  <thead>\n",
       "    <tr style=\"text-align: right;\">\n",
       "      <th></th>\n",
       "      <th>anglez</th>\n",
       "      <th>enmo</th>\n",
       "      <th>series_id</th>\n",
       "      <th>step</th>\n",
       "      <th>awake</th>\n",
       "    </tr>\n",
       "    <tr>\n",
       "      <th>timestamp</th>\n",
       "      <th></th>\n",
       "      <th></th>\n",
       "      <th></th>\n",
       "      <th></th>\n",
       "      <th></th>\n",
       "    </tr>\n",
       "  </thead>\n",
       "  <tbody>\n",
       "    <tr>\n",
       "      <th>2019-02-08 17:00:00+00:00</th>\n",
       "      <td>-88.683701</td>\n",
       "      <td>0.000000</td>\n",
       "      <td>349c5562ee2c</td>\n",
       "      <td>0</td>\n",
       "      <td>True</td>\n",
       "    </tr>\n",
       "    <tr>\n",
       "      <th>2019-02-08 17:10:00+00:00</th>\n",
       "      <td>-88.683701</td>\n",
       "      <td>0.000000</td>\n",
       "      <td>349c5562ee2c</td>\n",
       "      <td>120</td>\n",
       "      <td>True</td>\n",
       "    </tr>\n",
       "    <tr>\n",
       "      <th>2019-02-08 17:20:00+00:00</th>\n",
       "      <td>-81.866323</td>\n",
       "      <td>0.013463</td>\n",
       "      <td>349c5562ee2c</td>\n",
       "      <td>240</td>\n",
       "      <td>True</td>\n",
       "    </tr>\n",
       "    <tr>\n",
       "      <th>2019-02-08 17:30:00+00:00</th>\n",
       "      <td>-0.461967</td>\n",
       "      <td>0.122138</td>\n",
       "      <td>349c5562ee2c</td>\n",
       "      <td>360</td>\n",
       "      <td>True</td>\n",
       "    </tr>\n",
       "    <tr>\n",
       "      <th>2019-02-08 17:40:00+00:00</th>\n",
       "      <td>28.880279</td>\n",
       "      <td>0.030445</td>\n",
       "      <td>349c5562ee2c</td>\n",
       "      <td>480</td>\n",
       "      <td>True</td>\n",
       "    </tr>\n",
       "  </tbody>\n",
       "</table>\n",
       "</div>"
      ],
      "text/plain": [
       "                              anglez      enmo     series_id  step  awake\n",
       "timestamp                                                                \n",
       "2019-02-08 17:00:00+00:00 -88.683701  0.000000  349c5562ee2c     0   True\n",
       "2019-02-08 17:10:00+00:00 -88.683701  0.000000  349c5562ee2c   120   True\n",
       "2019-02-08 17:20:00+00:00 -81.866323  0.013463  349c5562ee2c   240   True\n",
       "2019-02-08 17:30:00+00:00  -0.461967  0.122138  349c5562ee2c   360   True\n",
       "2019-02-08 17:40:00+00:00  28.880279  0.030445  349c5562ee2c   480   True"
      ]
     },
     "execution_count": 90,
     "metadata": {},
     "output_type": "execute_result"
    }
   ],
   "source": [
    "target_columns = truncated_data.drop([\"anglez\", \"enmo\"], axis=1)\n",
    "res = pd.merge(res, target_columns, how=\"inner\", on=\"timestamp\")\n",
    "res.head()"
   ]
  },
  {
   "cell_type": "code",
   "execution_count": 91,
   "metadata": {},
   "outputs": [],
   "source": [
    "res.to_csv(\"../data/resampled_dataset.csv\")"
   ]
  }
 ],
 "metadata": {
  "kernelspec": {
   "display_name": ".venv",
   "language": "python",
   "name": "python3"
  },
  "language_info": {
   "codemirror_mode": {
    "name": "ipython",
    "version": 3
   },
   "file_extension": ".py",
   "mimetype": "text/x-python",
   "name": "python",
   "nbconvert_exporter": "python",
   "pygments_lexer": "ipython3",
   "version": "3.10.11"
  }
 },
 "nbformat": 4,
 "nbformat_minor": 2
}
