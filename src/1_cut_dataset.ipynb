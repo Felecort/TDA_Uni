{
 "cells": [
  {
   "cell_type": "code",
   "execution_count": 41,
   "metadata": {},
   "outputs": [],
   "source": [
    "import pandas as pd"
   ]
  },
  {
   "cell_type": "code",
   "execution_count": 42,
   "metadata": {},
   "outputs": [],
   "source": [
    "data = pd.read_parquet(\"../data/Zzzs_train.parquet\")"
   ]
  },
  {
   "cell_type": "code",
   "execution_count": 43,
   "metadata": {},
   "outputs": [
    {
     "data": {
      "text/html": [
       "<div>\n",
       "<style scoped>\n",
       "    .dataframe tbody tr th:only-of-type {\n",
       "        vertical-align: middle;\n",
       "    }\n",
       "\n",
       "    .dataframe tbody tr th {\n",
       "        vertical-align: top;\n",
       "    }\n",
       "\n",
       "    .dataframe thead th {\n",
       "        text-align: right;\n",
       "    }\n",
       "</style>\n",
       "<table border=\"1\" class=\"dataframe\">\n",
       "  <thead>\n",
       "    <tr style=\"text-align: right;\">\n",
       "      <th></th>\n",
       "      <th>series_id</th>\n",
       "      <th>step</th>\n",
       "      <th>timestamp</th>\n",
       "      <th>anglez</th>\n",
       "      <th>enmo</th>\n",
       "      <th>awake</th>\n",
       "    </tr>\n",
       "  </thead>\n",
       "  <tbody>\n",
       "    <tr>\n",
       "      <th>0</th>\n",
       "      <td>08db4255286f</td>\n",
       "      <td>0</td>\n",
       "      <td>2018-11-05T10:00:00-0400</td>\n",
       "      <td>-30.845301</td>\n",
       "      <td>0.0447</td>\n",
       "      <td>1</td>\n",
       "    </tr>\n",
       "    <tr>\n",
       "      <th>1</th>\n",
       "      <td>08db4255286f</td>\n",
       "      <td>1</td>\n",
       "      <td>2018-11-05T10:00:05-0400</td>\n",
       "      <td>-34.181801</td>\n",
       "      <td>0.0443</td>\n",
       "      <td>1</td>\n",
       "    </tr>\n",
       "    <tr>\n",
       "      <th>2</th>\n",
       "      <td>08db4255286f</td>\n",
       "      <td>2</td>\n",
       "      <td>2018-11-05T10:00:10-0400</td>\n",
       "      <td>-33.877102</td>\n",
       "      <td>0.0483</td>\n",
       "      <td>1</td>\n",
       "    </tr>\n",
       "    <tr>\n",
       "      <th>3</th>\n",
       "      <td>08db4255286f</td>\n",
       "      <td>3</td>\n",
       "      <td>2018-11-05T10:00:15-0400</td>\n",
       "      <td>-34.282101</td>\n",
       "      <td>0.0680</td>\n",
       "      <td>1</td>\n",
       "    </tr>\n",
       "    <tr>\n",
       "      <th>4</th>\n",
       "      <td>08db4255286f</td>\n",
       "      <td>4</td>\n",
       "      <td>2018-11-05T10:00:20-0400</td>\n",
       "      <td>-34.385799</td>\n",
       "      <td>0.0768</td>\n",
       "      <td>1</td>\n",
       "    </tr>\n",
       "  </tbody>\n",
       "</table>\n",
       "</div>"
      ],
      "text/plain": [
       "      series_id  step                 timestamp     anglez    enmo  awake\n",
       "0  08db4255286f     0  2018-11-05T10:00:00-0400 -30.845301  0.0447      1\n",
       "1  08db4255286f     1  2018-11-05T10:00:05-0400 -34.181801  0.0443      1\n",
       "2  08db4255286f     2  2018-11-05T10:00:10-0400 -33.877102  0.0483      1\n",
       "3  08db4255286f     3  2018-11-05T10:00:15-0400 -34.282101  0.0680      1\n",
       "4  08db4255286f     4  2018-11-05T10:00:20-0400 -34.385799  0.0768      1"
      ]
     },
     "execution_count": 43,
     "metadata": {},
     "output_type": "execute_result"
    }
   ],
   "source": [
    "data.head()"
   ]
  },
  {
   "cell_type": "code",
   "execution_count": 45,
   "metadata": {},
   "outputs": [],
   "source": [
    "data[\"step\"] = data[\"step\"].astype(int)\n",
    "data[\"anglez\"] = data[\"anglez\"].astype(float)\n",
    "data[\"enmo\"] = data[\"enmo\"].astype(float)\n",
    "data[\"awake\"] = data[\"awake\"].astype(bool)\n"
   ]
  },
  {
   "cell_type": "code",
   "execution_count": 46,
   "metadata": {},
   "outputs": [
    {
     "data": {
      "text/plain": [
       "array(['08db4255286f', '0a96f4993bd7', '0cfc06c129cc', '1087d7b0ff2e',\n",
       "       '10f8bc1f7b07', '18b61dd5aae8', '29c75c018220', '3452b878e596',\n",
       "       '349c5562ee2c', '3664fe9233f9', '483d6545417f', '55a47ff9dc8a',\n",
       "       '5acc9d63b5fd', '5f94bb3e1bed', '655f19eabf1e', '67f5fc60e494',\n",
       "       '72bbd1ac3edf', '76237b9406d5', '7822ee8fe3ec', '89bd631d1769',\n",
       "       '8e32047cbc1f', '939932f1822d', '9ee455e4770d', 'a9a2f7fac455',\n",
       "       'a9e5f5314bcb', 'af91d9a50547', 'b364205aba43', 'c535634d7dcd',\n",
       "       'c6788e579967', 'c68260cc9e8f', 'ca730dbf521d', 'd150801f3145',\n",
       "       'd25e479ecbb7', 'd515236bdeec', 'd5e47b94477e'], dtype=object)"
      ]
     },
     "execution_count": 46,
     "metadata": {},
     "output_type": "execute_result"
    }
   ],
   "source": [
    "data[\"series_id\"].unique()"
   ]
  },
  {
   "cell_type": "code",
   "execution_count": 47,
   "metadata": {},
   "outputs": [
    {
     "data": {
      "text/plain": [
       "array(['349c5562ee2c', 'c535634d7dcd', 'a9e5f5314bcb'], dtype=object)"
      ]
     },
     "execution_count": 47,
     "metadata": {},
     "output_type": "execute_result"
    }
   ],
   "source": [
    "data.groupby(\"series_id\")[\"step\"].count().sort_values()[:3].index.values"
   ]
  },
  {
   "cell_type": "code",
   "execution_count": 48,
   "metadata": {},
   "outputs": [],
   "source": [
    "less_series = data.groupby(\"series_id\")[\"step\"].count().sort_values()[:3].index.values"
   ]
  },
  {
   "cell_type": "code",
   "execution_count": 49,
   "metadata": {},
   "outputs": [],
   "source": [
    "truncated_data = data[data[\"series_id\"].isin(less_series)].reset_index()"
   ]
  },
  {
   "cell_type": "code",
   "execution_count": 50,
   "metadata": {},
   "outputs": [
    {
     "data": {
      "text/html": [
       "<div>\n",
       "<style scoped>\n",
       "    .dataframe tbody tr th:only-of-type {\n",
       "        vertical-align: middle;\n",
       "    }\n",
       "\n",
       "    .dataframe tbody tr th {\n",
       "        vertical-align: top;\n",
       "    }\n",
       "\n",
       "    .dataframe thead th {\n",
       "        text-align: right;\n",
       "    }\n",
       "</style>\n",
       "<table border=\"1\" class=\"dataframe\">\n",
       "  <thead>\n",
       "    <tr style=\"text-align: right;\">\n",
       "      <th></th>\n",
       "      <th>index</th>\n",
       "      <th>step</th>\n",
       "      <th>timestamp</th>\n",
       "      <th>anglez</th>\n",
       "      <th>enmo</th>\n",
       "      <th>awake</th>\n",
       "    </tr>\n",
       "    <tr>\n",
       "      <th>series_id</th>\n",
       "      <th></th>\n",
       "      <th></th>\n",
       "      <th></th>\n",
       "      <th></th>\n",
       "      <th></th>\n",
       "      <th></th>\n",
       "    </tr>\n",
       "  </thead>\n",
       "  <tbody>\n",
       "    <tr>\n",
       "      <th>349c5562ee2c</th>\n",
       "      <td>37080</td>\n",
       "      <td>37080</td>\n",
       "      <td>37080</td>\n",
       "      <td>37080</td>\n",
       "      <td>37080</td>\n",
       "      <td>37080</td>\n",
       "    </tr>\n",
       "    <tr>\n",
       "      <th>a9e5f5314bcb</th>\n",
       "      <td>155160</td>\n",
       "      <td>155160</td>\n",
       "      <td>155160</td>\n",
       "      <td>155160</td>\n",
       "      <td>155160</td>\n",
       "      <td>155160</td>\n",
       "    </tr>\n",
       "    <tr>\n",
       "      <th>c535634d7dcd</th>\n",
       "      <td>136080</td>\n",
       "      <td>136080</td>\n",
       "      <td>136080</td>\n",
       "      <td>136080</td>\n",
       "      <td>136080</td>\n",
       "      <td>136080</td>\n",
       "    </tr>\n",
       "  </tbody>\n",
       "</table>\n",
       "</div>"
      ],
      "text/plain": [
       "               index    step  timestamp  anglez    enmo   awake\n",
       "series_id                                                      \n",
       "349c5562ee2c   37080   37080      37080   37080   37080   37080\n",
       "a9e5f5314bcb  155160  155160     155160  155160  155160  155160\n",
       "c535634d7dcd  136080  136080     136080  136080  136080  136080"
      ]
     },
     "execution_count": 50,
     "metadata": {},
     "output_type": "execute_result"
    }
   ],
   "source": [
    "truncated_data.groupby(\"series_id\").count()"
   ]
  },
  {
   "cell_type": "code",
   "execution_count": 52,
   "metadata": {},
   "outputs": [],
   "source": [
    "truncated_data.to_csv(\"../data/truncated_dataset.csv\")"
   ]
  },
  {
   "cell_type": "code",
   "execution_count": null,
   "metadata": {},
   "outputs": [],
   "source": [
    "# save truncated data"
   ]
  }
 ],
 "metadata": {
  "kernelspec": {
   "display_name": ".venv",
   "language": "python",
   "name": "python3"
  },
  "language_info": {
   "codemirror_mode": {
    "name": "ipython",
    "version": 3
   },
   "file_extension": ".py",
   "mimetype": "text/x-python",
   "name": "python",
   "nbconvert_exporter": "python",
   "pygments_lexer": "ipython3",
   "version": "3.10.11"
  }
 },
 "nbformat": 4,
 "nbformat_minor": 2
}
